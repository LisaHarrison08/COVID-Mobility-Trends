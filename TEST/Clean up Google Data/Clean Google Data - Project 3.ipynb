{
 "cells": [
  {
   "cell_type": "markdown",
   "metadata": {},
   "source": [
    "# Clean Google Mobility Data \n",
    "\n"
   ]
  },
  {
   "cell_type": "code",
   "execution_count": null,
   "metadata": {},
   "outputs": [],
   "source": [
    "# Dependencies and Setup\n",
    "import json\n",
    "import os\n",
    "import pandas as pd\n",
    "import urllib.request\n",
    "import requests\n",
    "# from config import db_pwd, db_user\n",
    "from sqlalchemy import create_engine"
   ]
  },
  {
   "cell_type": "markdown",
   "metadata": {},
   "source": [
    "## Store Google CSV into DataFrame"
   ]
  },
  {
   "cell_type": "code",
   "execution_count": null,
   "metadata": {},
   "outputs": [],
   "source": [
    "csv_file = \"Resources/google_mob_US.csv\"\n",
    "google_data_df = pd.read_csv(csv_file)\n",
    "google_data_df.head()"
   ]
  },
  {
   "cell_type": "markdown",
   "metadata": {},
   "source": []
  },
  {
   "cell_type": "markdown",
   "metadata": {},
   "source": [
    "### Rename the dataframe with select columns"
   ]
  },
  {
   "cell_type": "code",
   "execution_count": null,
   "metadata": {},
   "outputs": [],
   "source": [
    "google_data_df = google_data_df.rename(columns = {\"State\":'states', \"date\":'dates', \"retail_and_recreation\":'retail_recreation',\n",
    "                            \"grocery_and_pharmacy\":'grocery_pharmacy', \"parks\":'parks', \"transit_stations\":\"transit\", \"workplaces\":\"workplaces\", \"residential\":\"residential\"})\n",
    "google_data_df.head()"
   ]
  },
  {
   "cell_type": "code",
   "execution_count": null,
   "metadata": {},
   "outputs": [],
   "source": [
    "google_df = google_data_df[[\"states\", \"dates\", \"retail_recreation\",\n",
    "                            \"grocery_pharmacy\", \"parks\", \"transit\", \"workplaces\", \"residential\"]]\n",
    "google_df.head()"
   ]
  },
  {
   "cell_type": "code",
   "execution_count": null,
   "metadata": {},
   "outputs": [],
   "source": [
    "# Reseting the index and saving the cleaned file to csv\n",
    "# clean_google_mob_US_df = clean_google_mob_US_df.reset_index(drop = True)\n",
    "# clean_google_mob_US_df.to_csv(\"../Data/clean_google_mob_US.csv\")"
   ]
  },
  {
   "cell_type": "code",
   "execution_count": null,
   "metadata": {},
   "outputs": [],
   "source": []
  },
  {
   "cell_type": "code",
   "execution_count": null,
   "metadata": {},
   "outputs": [],
   "source": [
    "google_df[\"SMA_retail_recreation\"] = google_df.iloc[:,2].rolling(window=30).mean()\n",
    "google_df[\"SMA_grocery_pharmacy\"] = google_df.iloc[:,3].rolling(window=30).mean()\n",
    "google_df[\"SMA_parks\"] = google_df.iloc[:,4].rolling(window=30).mean()\n",
    "google_df[\"SMA_transit\"] = google_df.iloc[:,5].rolling(window=30).mean()\n",
    "google_df[\"SMA_workplaces\"] = google_df.iloc[:,6].rolling(window=30).mean()\n",
    "google_df[\"SMA_residential\"] = google_df.iloc[:,7].rolling(window=30).mean()\n",
    "google_df.head()\n"
   ]
  },
  {
   "cell_type": "code",
   "execution_count": null,
   "metadata": {},
   "outputs": [],
   "source": []
  },
  {
   "cell_type": "code",
   "execution_count": null,
   "metadata": {},
   "outputs": [],
   "source": [
    "# Reseting the index and saving the cleaned file to csv\n",
    "google_us_df = google_df.reset_index(drop = True)\n",
    "google_us_df.to_csv(\"google_us.csv\")\n"
   ]
  },
  {
   "cell_type": "code",
   "execution_count": null,
   "metadata": {},
   "outputs": [],
   "source": [
    "# Selecting only the data for the US. This dropped the data to 456634 rows × 14 columns\n",
    "google_mob_VA = google_df.loc[google_df[\"states\"] == \"Virginia\"]\n",
    "google_mob_VA = google_mob_VA.reset_index(drop = True)\n",
    "google_mob_VA.head()"
   ]
  },
  {
   "cell_type": "code",
   "execution_count": null,
   "metadata": {},
   "outputs": [],
   "source": [
    "# Grouping by date, so we can get all the data for all states into one date\n",
    "# skipnabool, default is True, and all NA/null values are excluded, when computing the result.\n",
    "data_by_date_VA_df = pd.DataFrame(google_mob_VA.groupby(\"dates\").mean())\n",
    "data_by_date_VA_df.reset_index(inplace = True)\n",
    "data_by_date_VA_df.head()"
   ]
  },
  {
   "cell_type": "code",
   "execution_count": null,
   "metadata": {},
   "outputs": [],
   "source": [
    "# Reseting the index and saving the cleaned file to csv\n",
    "data_by_date_VA_df.to_csv(\"google_mob_VAA.csv\")"
   ]
  },
  {
   "cell_type": "code",
   "execution_count": null,
   "metadata": {},
   "outputs": [],
   "source": [
    "# Grouping by date, so we can get all the data for all states into one date\n",
    "# skipnabool, default is True, and all NA/null values are excluded, when computing the result.\n",
    "data_by_date_US_df = pd.DataFrame(google_df.groupby(\"dates\").mean())\n",
    "data_by_date_US_df.reset_index(inplace = True)\n",
    "data_by_date_US_df.head()"
   ]
  },
  {
   "cell_type": "code",
   "execution_count": null,
   "metadata": {},
   "outputs": [],
   "source": [
    "# Reseting the index and saving the cleaned file to csv\n",
    "data_by_date_US_df.to_csv(\"google_mob_US.csv\")"
   ]
  },
  {
   "cell_type": "code",
   "execution_count": null,
   "metadata": {},
   "outputs": [],
   "source": [
    "# Review previous df for the entire U.S - Noting number of rows\n",
    "google_df.count"
   ]
  },
  {
   "cell_type": "code",
   "execution_count": null,
   "metadata": {},
   "outputs": [],
   "source": [
    "# Groupby state and date to return the moving average (30 days)\n",
    "data_us_df = pd.DataFrame(google_df.groupby(['states','dates']).mean())\n",
    "data_us_df.reset_index(inplace = True)\n",
    "data_us_df"
   ]
  },
  {
   "cell_type": "code",
   "execution_count": null,
   "metadata": {},
   "outputs": [],
   "source": [
    "# Export the US data csv\n",
    "data_us_df.to_csv(\"data_us.csv\")"
   ]
  },
  {
   "cell_type": "code",
   "execution_count": null,
   "metadata": {},
   "outputs": [],
   "source": [
    "# start_date = \"2020-02-15\"\n",
    "# end_date = \"2020-03-01\"\n",
    "# mask = (google_df[\"dates\"] > start_date) & (google_df[\"dates\"] <= end_date)\n",
    "# cut_date_df = google_df.loc[mask]\n",
    "# cut_date_df"
   ]
  },
  {
   "cell_type": "markdown",
   "metadata": {},
   "source": [
    "## Store NYT COVID cases and deaths CSV into DataFrame"
   ]
  },
  {
   "cell_type": "code",
   "execution_count": null,
   "metadata": {},
   "outputs": [],
   "source": [
    "csv_file = \"Resources/COVID-states.csv\"\n",
    "covid_data_df = pd.read_csv(csv_file)\n",
    "covid_data_df.head()"
   ]
  },
  {
   "cell_type": "code",
   "execution_count": null,
   "metadata": {},
   "outputs": [],
   "source": [
    "covid_us = covid_data_df.rename(columns = {\"state\":'states', \"fips\": 'fips', \"date\":'dates', \"cases\":'cases',\n",
    "                            \"deaths\":'deaths'})\n",
    "covid_us.head()"
   ]
  },
  {
   "cell_type": "markdown",
   "metadata": {},
   "source": [
    "### Connect to local database"
   ]
  },
  {
   "cell_type": "code",
   "execution_count": null,
   "metadata": {},
   "outputs": [],
   "source": [
    "rds_connection_string = f\"{db_user}:{{db_pwd}}@localhost:5432/mobility_db\"\n",
    "engine = create_engine(f'postgresql://{rds_connection_string}')"
   ]
  },
  {
   "cell_type": "markdown",
   "metadata": {},
   "source": [
    "### Check for tables"
   ]
  },
  {
   "cell_type": "code",
   "execution_count": null,
   "metadata": {},
   "outputs": [],
   "source": [
    "engine.table_names()"
   ]
  },
  {
   "cell_type": "markdown",
   "metadata": {},
   "source": [
    "### Use pandas to load csv converted DataFrame into database"
   ]
  },
  {
   "cell_type": "code",
   "execution_count": null,
   "metadata": {},
   "outputs": [],
   "source": [
    "google_us.to_sql(name='google_data', con=engine, if_exists='append', index=False)"
   ]
  },
  {
   "cell_type": "code",
   "execution_count": null,
   "metadata": {},
   "outputs": [],
   "source": [
    "covid_us.to_sql(name='covid_data', con=engine, if_exists='append', index=False)"
   ]
  },
  {
   "cell_type": "markdown",
   "metadata": {},
   "source": [
    "### Confirm data has been added by querying the tables"
   ]
  },
  {
   "cell_type": "code",
   "execution_count": null,
   "metadata": {},
   "outputs": [],
   "source": [
    "pd.read_sql_query('select * from google_data', con=engine).head(10)"
   ]
  },
  {
   "cell_type": "code",
   "execution_count": null,
   "metadata": {},
   "outputs": [],
   "source": [
    "pd.read_sql_query('select * from covid_data', con=engine).head(10)"
   ]
  },
  {
   "cell_type": "code",
   "execution_count": null,
   "metadata": {},
   "outputs": [],
   "source": []
  }
 ],
 "metadata": {
  "kernelspec": {
   "display_name": "PythonData",
   "language": "python",
   "name": "pythondata"
  },
  "language_info": {
   "codemirror_mode": {
    "name": "ipython",
    "version": 3
   },
   "file_extension": ".py",
   "mimetype": "text/x-python",
   "name": "python",
   "nbconvert_exporter": "python",
   "pygments_lexer": "ipython3",
   "version": "3.7.7"
  },
  "varInspector": {
   "cols": {
    "lenName": 16,
    "lenType": 16,
    "lenVar": 40
   },
   "kernels_config": {
    "python": {
     "delete_cmd_postfix": "",
     "delete_cmd_prefix": "del ",
     "library": "var_list.py",
     "varRefreshCmd": "print(var_dic_list())"
    },
    "r": {
     "delete_cmd_postfix": ") ",
     "delete_cmd_prefix": "rm(",
     "library": "var_list.r",
     "varRefreshCmd": "cat(var_dic_list()) "
    }
   },
   "types_to_exclude": [
    "module",
    "function",
    "builtin_function_or_method",
    "instance",
    "_Feature"
   ],
   "window_display": false
  }
 },
 "nbformat": 4,
 "nbformat_minor": 2
}
